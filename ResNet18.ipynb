{
  "nbformat": 4,
  "nbformat_minor": 0,
  "metadata": {
    "colab": {
      "name": "Untitled1.ipynb",
      "provenance": [],
      "authorship_tag": "ABX9TyNf37wdUIKuyPYEIGj3g1LO",
      "include_colab_link": true
    },
    "kernelspec": {
      "name": "python3",
      "display_name": "Python 3"
    },
    "language_info": {
      "name": "python"
    }
  },
  "cells": [
    {
      "cell_type": "markdown",
      "metadata": {
        "id": "view-in-github",
        "colab_type": "text"
      },
      "source": [
        "<a href=\"https://colab.research.google.com/github/SridharSola/FER/blob/main/ResNet18.ipynb\" target=\"_parent\"><img src=\"https://colab.research.google.com/assets/colab-badge.svg\" alt=\"Open In Colab\"/></a>"
      ]
    },
    {
      "cell_type": "code",
      "execution_count": null,
      "metadata": {
        "id": "TZrpcRjj5fwZ"
      },
      "outputs": [],
      "source": [
        "def load_resnet18(ImageNet = False, load_weights = False, path = None,  compare = True, num_classes = 7):\n",
        "  if ImageNet == False:\n",
        "    net = torch.hub.load('pytorch/vision:v0.10.0', 'resnet18', pretrained=False)\n",
        "  else:\n",
        "    net = torch.hub.load('pytorch/vision:v0.10.0', 'resnet18', pretrained=True)\n",
        "  #Clipping last layer\n",
        "  final_in_ftrs = net.fc.in_features\n",
        "  net.fc = nn.Linear(final_in_ftrs, num_classes)\n",
        "  if compare == False:\n",
        "    pass\n",
        "  else:\n",
        "    #Printing weights pre-loading to compare\n",
        "    print(\"Original weights!!!\\n\", net.conv1.weight)\n",
        "  if load_weights == False:\n",
        "    pass\n",
        "  else:\n",
        "    #Loading pretrained weights\n",
        "    net_dict = torch.load(path)\n",
        "    if path == '/content/drive/MyDrive/ijba_res18_naive.pth.tar':\n",
        "      pretrained_state_dict = net_dict['state_dict']\n",
        "    else:\n",
        "      pretrained_state_dict = net_dict\n",
        "    \n",
        "    model_state_dict = net.state_dict()\n",
        "    for key in pretrained_state_dict:\n",
        "      if  ((key == 'module.fc.weight') | (key=='module.fc.bias') | (key=='module.feature.weight') | (key=='module.feature.bias') ) :  \n",
        "        pass    \n",
        "      else: \n",
        "        if path == '/content/drive/MyDrive/ijba_res18_naive.pth.tar':\n",
        "          ch = '.'\n",
        "          k= key[key.index(ch)+1:]\n",
        "        else:\n",
        "          k = key              \n",
        "        model_state_dict[k] = pretrained_state_dict[key]\n",
        "\n",
        "    net.load_state_dict(model_state_dict, strict = False) \n",
        "    if compare == True:\n",
        "      #Printing weights to compare now   \n",
        "      print(\"New Weights!!!\\n\", net.conv1.weight)\n",
        "  \n",
        "  return net"
      ]
    }
  ]
}